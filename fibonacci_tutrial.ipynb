{
 "cells": [
  {
   "cell_type": "markdown",
   "metadata": {},
   "source": [
    "# フィボナッチ数の課題をゆっくりやります\n",
    "$n$番目のフィボナッチ数を$F(n)$で表す。\n",
    "この時の関数$F(n)$を`def fib(n):`に続けて実装してみてください。\n",
    "ただし$$F(0) = 0, F(1) = 1, F(n) = F(n-1) + F(n-2) (n >= 2)$$とします。\n",
    "最初は自分の頭で考えてみて，5分～15分考えてわからなければ検索・相談しましょう。\n",
    "なるべく処理が早いほうがいい。\n",
    "n=2018のときいくつか。\n"
   ]
  },
  {
   "cell_type": "markdown",
   "metadata": {},
   "source": [
    "まず，$F(10)$までを手計算で計算して見ましょう。\n",
    "次に，それをプログラミングしてみましょう。"
   ]
  },
  {
   "cell_type": "code",
   "execution_count": 1,
   "metadata": {},
   "outputs": [
    {
     "name": "stdout",
     "output_type": "stream",
     "text": [
      "55\n"
     ]
    }
   ],
   "source": [
    "a_0 = 0\n",
    "a_1 = 1\n",
    "a_2 = a_1 + a_0\n",
    "a_3 = a_1 + a_2\n",
    "a_4=a_2+a_3\n",
    "a_5=a_3+a_4\n",
    "a_6=a_4+a_5\n",
    "a_7=a_5+a_6\n",
    "a_8=a_6+a_7\n",
    "a_9=a_7+a_8\n",
    "a_10=a_8+a_9\n",
    "\n",
    "# ここにa_10までを計算するように書く\n",
    "\n",
    "print(a_10)"
   ]
  },
  {
   "cell_type": "markdown",
   "metadata": {},
   "source": [
    "繰り返し部分をforループで書いてみましょう。"
   ]
  },
  {
   "cell_type": "code",
   "execution_count": 5,
   "metadata": {},
   "outputs": [
    {
     "name": "stdout",
     "output_type": "stream",
     "text": [
      "[0, 1, 2, 3, 4, 5, 6, 7, 8, 9]\n",
      "[2, 3, 4, 5, 6, 7, 8, 9, 10]\n"
     ]
    }
   ],
   "source": [
    "# range関数がどのような出力なのか確認\n",
    "print(list(range(10)))\n",
    "print(list(range(2, 11)))"
   ]
  },
  {
   "cell_type": "code",
   "execution_count": null,
   "metadata": {},
   "outputs": [],
   "source": []
  },
  {
   "cell_type": "code",
   "execution_count": 27,
   "metadata": {},
   "outputs": [
    {
     "name": "stdout",
     "output_type": "stream",
     "text": [
      "3 2\n",
      "4 3\n",
      "5 5\n",
      "6 8\n",
      "7 13\n",
      "8 21\n",
      "9 34\n",
      "10 55\n",
      "55\n"
     ]
    }
   ],
   "source": [
    "a_0 = 0\n",
    "a_1 = 1\n",
    "\n",
    "x=a_0\n",
    "y=a_1\n",
    "z=x+y\n",
    "\n",
    "#このforループの中を編集してやってみましょう。\n",
    "for i in range(3, 11):\n",
    "    x=y\n",
    "    y=z\n",
    "    z=y+x\n",
    "    a_i=z\n",
    "    print(i,a_i)\n",
    "\n",
    "a_10 = a_i\n",
    "print(a_10)"
   ]
  },
  {
   "cell_type": "markdown",
   "metadata": {},
   "source": [
    "nまで計算できるように編集してみましょう。\n"
   ]
  },
  {
   "cell_type": "code",
   "execution_count": 35,
   "metadata": {},
   "outputs": [
    {
     "name": "stdout",
     "output_type": "stream",
     "text": [
      "3 2\n",
      "4 3\n",
      "5 5\n",
      "6 8\n",
      "7 13\n",
      "8 21\n",
      "9 34\n",
      "10 55\n",
      "11 89\n",
      "12 144\n",
      "13 233\n",
      "14 377\n",
      "15 610\n",
      "16 987\n",
      "17 1597\n",
      "18 2584\n",
      "19 4181\n",
      "20 6765\n",
      "21 10946\n",
      "22 17711\n",
      "23 28657\n",
      "24 46368\n",
      "25 75025\n",
      "26 121393\n",
      "27 196418\n",
      "28 317811\n",
      "29 514229\n",
      "30 832040\n",
      "31 1346269\n",
      "32 2178309\n",
      "33 3524578\n",
      "34 5702887\n",
      "35 9227465\n",
      "36 14930352\n",
      "37 24157817\n",
      "38 39088169\n",
      "39 63245986\n",
      "40 102334155\n",
      "41 165580141\n",
      "42 267914296\n",
      "43 433494437\n",
      "44 701408733\n",
      "45 1134903170\n",
      "46 1836311903\n",
      "47 2971215073\n",
      "48 4807526976\n",
      "49 7778742049\n",
      "50 12586269025\n"
     ]
    }
   ],
   "source": [
    "#ここにプログラムを書く\n",
    "x=0\n",
    "y=1\n",
    "z=x+y\n",
    "n=50\n",
    "for i in range(3,n+1):\n",
    "    x=y\n",
    "    y=z\n",
    "    z=y+x\n",
    "    a_n=z\n",
    "    print(i,a_n)\n",
    "    "
   ]
  },
  {
   "cell_type": "markdown",
   "metadata": {},
   "source": [
    "defを使って関数にしてみましょう。"
   ]
  },
  {
   "cell_type": "code",
   "execution_count": 19,
   "metadata": {},
   "outputs": [
    {
     "name": "stdout",
     "output_type": "stream",
     "text": [
      "f( 3 )= 2\n",
      "f( 4 )= 3\n",
      "f( 5 )= 5\n",
      "f( 6 )= 8\n",
      "f( 7 )= 13\n",
      "f( 8 )= 21\n",
      "f( 9 )= 34\n",
      "f( 10 )= 55\n",
      "fib( 10 )= 55\n"
     ]
    }
   ],
   "source": [
    "def fib(n):\n",
    "    #ここにプログラムを書く\n",
    "    x=0\n",
    "    y=1\n",
    "    z=x+y\n",
    "    for i in range(3,n+1):\n",
    "     x=y\n",
    "     y=z\n",
    "     z=y+x\n",
    "     print(\"f(\",i,\")=\",z)\n",
    "    a_n=z   \n",
    "    return a_n\n",
    "n=10\n",
    "print(\"fib(\",n,\")=\",fib(n))"
   ]
  },
  {
   "cell_type": "markdown",
   "metadata": {},
   "source": [
    "リストを使ってやってみましょう"
   ]
  },
  {
   "cell_type": "code",
   "execution_count": 5,
   "metadata": {
    "scrolled": true
   },
   "outputs": [
    {
     "name": "stdout",
     "output_type": "stream",
     "text": [
      "[0, 1, 1, 2, 3, 5, 8, 13, 21, 34, 55]\n"
     ]
    }
   ],
   "source": [
    "def fib_list(n):\n",
    "    result = [0, 1]\n",
    "    #ここにプログラムを書く\n",
    "    for i in range(2,n+1):\n",
    "        z=result[-2]+result[-1]\n",
    "        result.append(z)\n",
    "    return result\n",
    "\n",
    "print(fib_list(10))"
   ]
  },
  {
   "cell_type": "markdown",
   "metadata": {},
   "source": [
    "$m$以下で最大のフィボナッチ数の$n$を求める関数を`argfib(m)`という名前でつくる\n",
    "m=2018のときいくつか。"
   ]
  },
  {
   "cell_type": "markdown",
   "metadata": {},
   "source": [
    "まずは先ほど作った関数を用いてwhileループを使ってやってみましょう。"
   ]
  },
  {
   "cell_type": "code",
   "execution_count": 22,
   "metadata": {},
   "outputs": [
    {
     "name": "stdout",
     "output_type": "stream",
     "text": [
      "2 1\n",
      "f( 3 )= 2\n",
      "answer is 2 1\n",
      "3 2\n",
      "f( 3 )= 2\n",
      "f( 4 )= 3\n",
      "f( 3 )= 2\n",
      "answer is 3 2\n",
      "4 3\n",
      "f( 3 )= 2\n",
      "f( 4 )= 3\n",
      "f( 5 )= 5\n",
      "f( 3 )= 2\n",
      "f( 4 )= 3\n",
      "answer is 4 3\n",
      "5 5\n",
      "f( 3 )= 2\n",
      "f( 4 )= 3\n",
      "f( 5 )= 5\n",
      "f( 6 )= 8\n",
      "f( 3 )= 2\n",
      "f( 4 )= 3\n",
      "f( 5 )= 5\n",
      "answer is 5 5\n",
      "6 8\n",
      "f( 3 )= 2\n",
      "f( 4 )= 3\n",
      "f( 5 )= 5\n",
      "f( 6 )= 8\n",
      "f( 7 )= 13\n",
      "f( 3 )= 2\n",
      "f( 4 )= 3\n",
      "f( 5 )= 5\n",
      "f( 6 )= 8\n",
      "answer is 6 8\n",
      "7 13\n",
      "f( 3 )= 2\n",
      "f( 4 )= 3\n",
      "f( 5 )= 5\n",
      "f( 6 )= 8\n",
      "f( 7 )= 13\n",
      "f( 8 )= 21\n",
      "f( 3 )= 2\n",
      "f( 4 )= 3\n",
      "f( 5 )= 5\n",
      "f( 6 )= 8\n",
      "f( 7 )= 13\n",
      "answer is 7 13\n",
      "8 21\n",
      "f( 3 )= 2\n",
      "f( 4 )= 3\n",
      "f( 5 )= 5\n",
      "f( 6 )= 8\n",
      "f( 7 )= 13\n",
      "f( 8 )= 21\n",
      "f( 9 )= 34\n",
      "f( 3 )= 2\n",
      "f( 4 )= 3\n",
      "f( 5 )= 5\n",
      "f( 6 )= 8\n",
      "f( 7 )= 13\n",
      "f( 8 )= 21\n",
      "answer is 8 21\n",
      "9 34\n",
      "f( 3 )= 2\n",
      "f( 4 )= 3\n",
      "f( 5 )= 5\n",
      "f( 6 )= 8\n",
      "f( 7 )= 13\n",
      "f( 8 )= 21\n",
      "f( 9 )= 34\n",
      "f( 10 )= 55\n",
      "f( 3 )= 2\n",
      "f( 4 )= 3\n",
      "f( 5 )= 5\n",
      "f( 6 )= 8\n",
      "f( 7 )= 13\n",
      "f( 8 )= 21\n",
      "f( 9 )= 34\n",
      "answer is 9 34\n",
      "10 55\n",
      "f( 3 )= 2\n",
      "f( 4 )= 3\n",
      "f( 5 )= 5\n",
      "f( 6 )= 8\n",
      "f( 7 )= 13\n",
      "f( 8 )= 21\n",
      "f( 9 )= 34\n",
      "f( 10 )= 55\n",
      "f( 11 )= 89\n",
      "f( 3 )= 2\n",
      "f( 4 )= 3\n",
      "f( 5 )= 5\n",
      "f( 6 )= 8\n",
      "f( 7 )= 13\n",
      "f( 8 )= 21\n",
      "f( 9 )= 34\n",
      "f( 10 )= 55\n",
      "answer is 10 55\n",
      "11 89\n",
      "f( 3 )= 2\n",
      "f( 4 )= 3\n",
      "f( 5 )= 5\n",
      "f( 6 )= 8\n",
      "f( 7 )= 13\n",
      "f( 8 )= 21\n",
      "f( 9 )= 34\n",
      "f( 10 )= 55\n",
      "f( 11 )= 89\n",
      "f( 12 )= 144\n",
      "f( 3 )= 2\n",
      "f( 4 )= 3\n",
      "f( 5 )= 5\n",
      "f( 6 )= 8\n",
      "f( 7 )= 13\n",
      "f( 8 )= 21\n",
      "f( 9 )= 34\n",
      "f( 10 )= 55\n",
      "f( 11 )= 89\n",
      "answer is 11 89\n"
     ]
    }
   ],
   "source": [
    "m = 100\n",
    "i = 2\n",
    "a_i =1+0\n",
    "while a_i<=m:\n",
    "    #ここにプログラムを書く\n",
    "    print(i,a_i)\n",
    "    i=i+1\n",
    "    a_i=fib(i)\n",
    "    print(\"answer is\",i-1,fib(i-1))"
   ]
  },
  {
   "cell_type": "markdown",
   "metadata": {},
   "source": [
    "他の書き方もやってみましょう。"
   ]
  }
 ],
 "metadata": {
  "kernelspec": {
   "display_name": "Python 3",
   "language": "python",
   "name": "python3"
  },
  "language_info": {
   "codemirror_mode": {
    "name": "ipython",
    "version": 3
   },
   "file_extension": ".py",
   "mimetype": "text/x-python",
   "name": "python",
   "nbconvert_exporter": "python",
   "pygments_lexer": "ipython3",
   "version": "3.7.0"
  }
 },
 "nbformat": 4,
 "nbformat_minor": 2
}
